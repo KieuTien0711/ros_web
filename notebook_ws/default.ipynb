{
 "cells": [
  {
   "cell_type": "markdown",
   "metadata": {},
   "source": [
    "# ROS Web Development"
   ]
  },
  {
   "cell_type": "markdown",
   "metadata": {},
   "source": [
    "### Create a virtual environment for Python 3"
   ]
  },
  {
   "cell_type": "code",
   "execution_count": null,
   "metadata": {},
   "outputs": [],
   "source": [
    "virtualenv venv --python=python3\n",
    "source venv/bin/activate"
   ]
  },
  {
   "cell_type": "markdown",
   "metadata": {},
   "source": [
    "### Run the webserver for static pages"
   ]
  },
  {
   "cell_type": "code",
   "execution_count": null,
   "metadata": {},
   "outputs": [],
   "source": [
    "cd ros_webpage\n",
    "python -m http.server"
   ]
  },
  {
   "cell_type": "markdown",
   "metadata": {},
   "source": [
    "### Run ROSBridge Websocket Server"
   ]
  },
  {
   "cell_type": "code",
   "execution_count": null,
   "metadata": {},
   "outputs": [],
   "source": [
    "roslaunch rosbridge_server rosbridge_websocket.launch"
   ]
  },
  {
   "cell_type": "markdown",
   "metadata": {},
   "source": [
    "### Basic code"
   ]
  },
  {
   "cell_type": "code",
   "execution_count": null,
   "metadata": {},
   "outputs": [],
   "source": [
    "var ros = new ROSLIB.Ros({\n",
    "    url : 'ws://<IP>:9090'\n",
    "});\n",
    "\n",
    "ros.on('connection', function() {\n",
    "console.log('Connected to websocket server.');\n",
    "});\n",
    "\n",
    "ros.on('error', function(error) {\n",
    "console.log('Error connecting to websocket server: ', error);\n",
    "});\n",
    "\n",
    "ros.on('close', function() {\n",
    "console.log('Connection to websocket server closed.');\n",
    "});\n",
    "\n",
    "// Publishing a Topic\n",
    "// ------------------\n",
    "\n",
    "var cmdVel = new ROSLIB.Topic({\n",
    "  ros : ros,\n",
    "  name : '/cmd_vel',\n",
    "  messageType : 'geometry_msgs/Twist'\n",
    "});\n",
    "\n",
    "var twist = new ROSLIB.Message({\n",
    "linear : {\n",
    "  x : 0.5,\n",
    "  y : 0.0,\n",
    "  z : 0.0\n",
    "},\n",
    "angular : {\n",
    "  x : 0.3,\n",
    "  y : 0.0,\n",
    "  z : 0.0\n",
    "}\n",
    "});\n",
    "\n",
    "console.log(\"Publishing cmd_vel\");\n",
    "cmdVel.publish(twist);"
   ]
  }
 ],
 "metadata": {
  "kernelspec": {
   "display_name": "Python 2",
   "language": "python",
   "name": "python2"
  },
  "language_info": {
   "codemirror_mode": {
    "name": "ipython",
    "version": 2
   },
   "file_extension": ".py",
   "mimetype": "text/x-python",
   "name": "python",
   "nbconvert_exporter": "python",
   "pygments_lexer": "ipython2",
   "version": "2.7.16"
  }
 },
 "nbformat": 4,
 "nbformat_minor": 1
}
